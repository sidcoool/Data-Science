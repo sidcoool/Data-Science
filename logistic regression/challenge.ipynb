{
 "cells": [
  {
   "cell_type": "code",
   "execution_count": 1,
   "metadata": {},
   "outputs": [],
   "source": [
    "import numpy as np\n",
    "import pandas as pd\n",
    "import matplotlib.pyplot as plt"
   ]
  },
  {
   "cell_type": "code",
   "execution_count": 2,
   "metadata": {},
   "outputs": [
    {
     "name": "stdout",
     "output_type": "stream",
     "text": [
      "(3000, 3)\n",
      "(3000, 1)\n"
     ]
    }
   ],
   "source": [
    "dfx=pd.read_csv(\"Logistic_X_Train.csv\")\n",
    "dfy=pd.read_csv(\"Logistic_Y_Train.csv\")\n",
    "\n",
    "X=dfx.values\n",
    "Y=dfy.values\n",
    "\n",
    "print(X.shape)\n",
    "print(Y.shape)"
   ]
  },
  {
   "cell_type": "code",
   "execution_count": 21,
   "metadata": {},
   "outputs": [],
   "source": [
    "def sigmoid(x):\n",
    "    return 1.0/(1.0+np.exp(-1.0*x))\n",
    "\n",
    "def hypo(query_x,w,b):\n",
    "    h=np.dot(query_x,w)+b\n",
    "    return sigmoid(h)\n",
    "\n",
    "def error(y_true,x,w,b):\n",
    "    \n",
    "    m=X.shape[0]\n",
    "    err=0\n",
    "    \n",
    "    for i in range(m):\n",
    "        hx=hypo(x[i],w,b)\n",
    "        err+= y_true[i]*np.log2(hx)+(1-y_true[i])*np.log2(1-hx)\n",
    "    \n",
    "    return -err/m\n",
    "\n",
    "def grads(y_true,x,w,b):\n",
    "    grad_w=np.zeros(w.shape)\n",
    "    grad_b=0.0\n",
    "    \n",
    "    m=x.shape[0]\n",
    "    \n",
    "    for i in range(m):\n",
    "        hx=hypo(x[i],w,b)\n",
    "        grad_w+=(y_true[i]-hx)*x[i]\n",
    "        grad_b+=(y_true[i]-hx)\n",
    "        \n",
    "    grad_w/=m\n",
    "    grad_b/=m\n",
    "    \n",
    "    return [grad_w,grad_b]\n",
    "\n",
    "#gradient descent for 1 iteration\n",
    "def getgrad(y_true,x,w,b,lrate=0.5):\n",
    "    err=error(y_true,x,w,b)\n",
    "    grad_w,grad_b=grads(y_true,x,w,b)\n",
    "    \n",
    "    w+=lrate*grad_w\n",
    "    b+=lrate*grad_b\n",
    "    \n",
    "    return err,w,b"
   ]
  },
  {
   "cell_type": "code",
   "execution_count": 22,
   "metadata": {},
   "outputs": [],
   "source": [
    "loss=[]\n",
    "acc=[]\n",
    "\n",
    "w=np.zeros((X.shape[1]))\n",
    "b=0.0"
   ]
  },
  {
   "cell_type": "code",
   "execution_count": 23,
   "metadata": {},
   "outputs": [],
   "source": [
    "for i in range(100):\n",
    "    e,w,b=getgrad(Y,X,w,b)\n",
    "    loss.append(e)"
   ]
  },
  {
   "cell_type": "code",
   "execution_count": 24,
   "metadata": {},
   "outputs": [
    {
     "data": {
      "image/png": "[encoded data removed]",
      "text/plain": [
       "<Figure size 432x288 with 1 Axes>"
      ]
     },
     "metadata": {
      "needs_background": "light"
     },
     "output_type": "display_data"
    }
   ],
   "source": [
    "plt.plot(loss)\n",
    "plt.show()"
   ]
  },
  {
   "cell_type": "code",
   "execution_count": 25,
   "metadata": {},
   "outputs": [],
   "source": [
    "def predict(x,w,b):\n",
    "    h=hypo(x,w,b)\n",
    "    if h>=0.5:\n",
    "        return 1\n",
    "    else:\n",
    "        return 0"
   ]
  },
  {
   "cell_type": "code",
   "execution_count": 26,
   "metadata": {},
   "outputs": [
    {
     "name": "stdout",
     "output_type": "stream",
     "text": [
      "(1000, 3)\n"
     ]
    }
   ],
   "source": [
    "dfxtest=pd.read_csv(\"Logistic_X_Test.csv\")\n",
    "xtest=dfxtest.values\n",
    "print(xtest.shape)"
   ]
  },
  {
   "cell_type": "code",
   "execution_count": 28,
   "metadata": {},
   "outputs": [],
   "source": [
    "size=int(dfxtest.values.shape[0])\n",
    "anslist1=[]\n",
    "id1=[]\n",
    "cnt=1\n",
    "for i in range(size):\n",
    "    query_x=dfxtest.values[i]\n",
    "    query_x=np.append(query_x,1)\n",
    "    x=int(predict(xtest[i],w,b))\n",
    "    anslist1.append(x)\n",
    "    id1.append(cnt)\n",
    "    cnt+=1"
   ]
  },
  {
   "cell_type": "code",
   "execution_count": 30,
   "metadata": {},
   "outputs": [],
   "source": [
    "dict={\"label\" : anslist1}\n",
    "df = pd.DataFrame(dict)  \n",
    "df.to_csv('predict_logist_reg.csv',index_label=None,index=False)"
   ]
  },
  {
   "cell_type": "code",
   "execution_count": null,
   "metadata": {},
   "outputs": [],
   "source": []
  }
 ],
 "metadata": {
  "kernelspec": {
   "display_name": "Python 3",
   "language": "python",
   "name": "python3"
  },
  "language_info": {
   "codemirror_mode": {
    "name": "ipython",
    "version": 3
   },
   "file_extension": ".py",
   "mimetype": "text/x-python",
   "name": "python",
   "nbconvert_exporter": "python",
   "pygments_lexer": "ipython3",
   "version": "3.7.3"
  }
 },
 "nbformat": 4,
 "nbformat_minor": 2
}
