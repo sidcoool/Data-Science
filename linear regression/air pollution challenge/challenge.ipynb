{
 "cells": [
  {
   "cell_type": "code",
   "execution_count": 38,
   "metadata": {},
   "outputs": [],
   "source": [
    "import numpy as np\n",
    "import matplotlib.pyplot as plt\n",
    "import pandas as pd\n",
    "from sklearn.datasets import make_regression"
   ]
  },
  {
   "cell_type": "code",
   "execution_count": 39,
   "metadata": {},
   "outputs": [],
   "source": [
    "dftrain=pd.read_csv(\"Train.csv\")\n",
    "train=dftrain.values"
   ]
  },
  {
   "cell_type": "code",
   "execution_count": 40,
   "metadata": {},
   "outputs": [],
   "source": [
    "X_train=train[:,:5]\n",
    "Y_train=train[:,5:]"
   ]
  },
  {
   "cell_type": "code",
   "execution_count": 41,
   "metadata": {},
   "outputs": [],
   "source": [
    "X_train = (X_train-X_train.mean())/X_train.std()"
   ]
  },
  {
   "cell_type": "code",
   "execution_count": 42,
   "metadata": {},
   "outputs": [
    {
     "name": "stdout",
     "output_type": "stream",
     "text": [
      "(1600, 6)\n"
     ]
    }
   ],
   "source": [
    "ones=np.ones((X_train.shape[0],1))\n",
    "X_train=np.hstack((X_train,ones))\n",
    "X_train=X_train[:,:6]\n",
    "print(X_train.shape)"
   ]
  },
  {
   "cell_type": "code",
   "execution_count": 43,
   "metadata": {},
   "outputs": [],
   "source": [
    "def predict(theta,X):\n",
    "    return np.dot(X,theta)\n",
    "\n",
    "def getTheta(X_train,Y_train):\n",
    "    X_train=np.mat(X_train)\n",
    "    Y_train=np.mat(Y_train)\n",
    "    theta=np.linalg.pinv(np.dot(X_train.T,X_train))*(np.dot(X_train.T,Y_train))\n",
    "    \n",
    "    return theta"
   ]
  },
  {
   "cell_type": "code",
   "execution_count": 44,
   "metadata": {},
   "outputs": [
    {
     "name": "stdout",
     "output_type": "stream",
     "text": [
      "[[29.84297081]\n",
      " [93.16540718]\n",
      " [ 8.32556432]\n",
      " [45.01071403]\n",
      " [ 2.53283406]\n",
      " [ 1.49138699]]\n"
     ]
    }
   ],
   "source": [
    "theta = getTheta(X_train,Y_train)\n",
    "print(theta)"
   ]
  },
  {
   "cell_type": "code",
   "execution_count": 45,
   "metadata": {},
   "outputs": [
    {
     "name": "stdout",
     "output_type": "stream",
     "text": [
      "(400, 5)\n"
     ]
    }
   ],
   "source": [
    "dfxtest=pd.read_csv(\"Test.csv\")\n",
    "xtest=dfxtest.values\n",
    "print(xtest.shape)"
   ]
  },
  {
   "cell_type": "code",
   "execution_count": 48,
   "metadata": {},
   "outputs": [
    {
     "name": "stdout",
     "output_type": "stream",
     "text": [
      "[111, 115, -25, -47, -99, -48, -79, 20, 171, 170, -109, -24, -7, 120, 36, 42, -194, 19, 8, 133, 61, -65, -112, -10, -62, 8, 25, 104, 20, -29, 108, -48, 214, -17, -233, 152, -5, 9, -313, 74, -85, -211, -243, 131, -77, 102, -7, 17, -102, -31, 7, -178, 61, -101, -110, -160, 59, 105, -78, 38, 37, -54, 162, 40, 53, 20, 78, -5, -6, -1, -27, 159, -44, 18, -70, -73, 33, -164, -5, 148, -41, -124, -199, 33, 143, 269, -261, -92, 73, -93, -53, 122, -168, -120, 45, 95, -220, -125, -176, -55, 125, -87, -7, -4, -3, 77, 41, 89, -33, -88, 35, 14, 114, 4, 70, 29, -146, 3, 17, -26, -24, -260, 265, 152, 10, 80, -15, -157, 109, -35, -220, 118, -33, -90, 168, 35, -22, 58, 42, -179, 127, -76, 209, 132, -3, -158, -18, 130, 32, 54, -7, -46, 14, -73, 25, 139, 345, 214, 24, -41, -175, 9, 296, 72, -25, 152, -160, 138, 168, -50, 62, 94, 91, 28, 171, -155, -98, -174, -21, -111, -17, -62, -79, 64, -72, 85, -60, -113, -81, 183, -45, 217, -60, -87, 44, -2, 68, -64, 207, -142, -100, -119, 21, 51, 147, 43, 88, 170, -275, -178, -109, -86, 25, -54, 74, -23, -56, -32, 62, 88, -86, -152, 45, 236, -52, 12, -65, 9, 6, 36, 113, 15, -111, 43, 97, -92, -179, 166, 106, 58, -12, -28, -51, -175, -68, -31, -175, -31, 30, -125, 13, -4, -259, -258, -170, 43, 128, 67, 116, 90, 18, -311, 184, -134, -47, -88, -91, 134, 160, -44, -146, 110, -23, 85, 103, 21, -54, -30, 26, 70, 24, -132, -18, -14, -131, 159, -13, -137, 204, 45, 90, 28, 204, -42, -34, -43, 49, -66, 90, -88, -99, -28, -93, -26, 56, -36, -78, -184, -168, 37, 77, 299, 125, 128, 49, -24, 180, -62, 126, 149, -37, -206, -102, 0, -48, -41, 155, 131, 21, -92, 184, -69, 62, 77, 95, -109, 111, -38, 85, -87, -206, 155, -97, 62, 122, 27, -179, -37, -51, -121, 8, -92, -42, -167, -223, 2, -210, 183, -12, 14, 29, 238, -31, 131, 54, 7, -90, -13, 221, -18, -142, -54, -97, 5, -18, -66, -20, -177, -126, 41, -41, -161, 84, -3, 130, -50, 0, 171, 168, 43, -30, 56, 108, -40, -73, -85, -190, 122, 62, 53]\n"
     ]
    }
   ],
   "source": [
    "size=int(dfxtest.values.shape[0])\n",
    "anslist1=[]\n",
    "id1=[]\n",
    "cnt=1\n",
    "for i in range(size):\n",
    "    query_x=dfxtest.values[i]\n",
    "    query_x=np.append(query_x,1)\n",
    "    x=int(predict(theta,query_x))\n",
    "    anslist1.append(x)\n",
    "    id1.append(cnt)\n",
    "    cnt+=1\n",
    "    \n"
   ]
  },
  {
   "cell_type": "code",
   "execution_count": 47,
   "metadata": {},
   "outputs": [],
   "source": [
    "dict={\"label\" : anslist}\n",
    "df = pd.DataFrame(dict)  \n",
    "df.to_csv('predict_logistic_reg.csv',index_label=None,index=False)"
   ]
  },
  {
   "cell_type": "code",
   "execution_count": null,
   "metadata": {},
   "outputs": [],
   "source": []
  }
 ],
 "metadata": {
  "kernelspec": {
   "display_name": "Python 3",
   "language": "python",
   "name": "python3"
  },
  "language_info": {
   "codemirror_mode": {
    "name": "ipython",
    "version": 3
   },
   "file_extension": ".py",
   "mimetype": "text/x-python",
   "name": "python",
   "nbconvert_exporter": "python",
   "pygments_lexer": "ipython3",
   "version": "3.7.3"
  }
 },
 "nbformat": 4,
 "nbformat_minor": 2
}
