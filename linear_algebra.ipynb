{
 "cells": [
  {
   "cell_type": "code",
   "execution_count": 3,
   "metadata": {},
   "outputs": [
    {
     "name": "stdout",
     "output_type": "stream",
     "text": [
      "learning linear algebra\n"
     ]
    }
   ],
   "source": [
    "print(\"learning linear algebra\")"
   ]
  },
  {
   "cell_type": "code",
   "execution_count": 3,
   "metadata": {},
   "outputs": [],
   "source": [
    "import numpy as np"
   ]
  },
  {
   "cell_type": "code",
   "execution_count": 10,
   "metadata": {},
   "outputs": [
    {
     "name": "stdout",
     "output_type": "stream",
     "text": [
      "[[[ 1  2  3]\n",
      "  [ 4  5  6]]\n",
      "\n",
      " [[10 20 30]\n",
      "  [15 25 35]]]\n",
      "(2, 2, 3)\n"
     ]
    }
   ],
   "source": [
    "# a tensor is a matrix with multi dimensions i.e more than 2 dimension\n",
    "tensor=np.array([[[1,2,3],[4,5,6]],[[10,20,30],[15,25,35]]])\n",
    "print(tensor)\n",
    "print(tensor.shape)"
   ]
  },
  {
   "cell_type": "code",
   "execution_count": 11,
   "metadata": {},
   "outputs": [
    {
     "name": "stdout",
     "output_type": "stream",
     "text": [
      "[[1 2 3]\n",
      " [4 5 6]\n",
      " [7 8 9]]\n"
     ]
    }
   ],
   "source": [
    "mat=np.array([[1,2,3],[4,5,6],[7,8,9]])\n",
    "print(mat)"
   ]
  },
  {
   "cell_type": "code",
   "execution_count": 13,
   "metadata": {},
   "outputs": [
    {
     "name": "stdout",
     "output_type": "stream",
     "text": [
      "[[1 4 7]\n",
      " [2 5 8]\n",
      " [3 6 9]]\n"
     ]
    }
   ],
   "source": [
    "mat_transpose=np.transpose(mat)\n",
    "print(mat_transpose)"
   ]
  },
  {
   "cell_type": "code",
   "execution_count": 14,
   "metadata": {},
   "outputs": [
    {
     "name": "stdout",
     "output_type": "stream",
     "text": [
      "[1 2 3 4]\n"
     ]
    }
   ],
   "source": [
    "a=np.array([1,2,3,4])\n",
    "b=np.transpose(a)\n",
    "print(b)"
   ]
  },
  {
   "cell_type": "code",
   "execution_count": 15,
   "metadata": {},
   "outputs": [
    {
     "name": "stdout",
     "output_type": "stream",
     "text": [
      "[[0.30726391 0.66847463 0.38895201]\n",
      " [0.76498138 0.91179413 0.34342965]\n",
      " [0.02052334 0.03630224 0.96831789]]\n"
     ]
    }
   ],
   "source": [
    "rand_mat=np.random.random((3,3))\n",
    "print(rand_mat)"
   ]
  },
  {
   "cell_type": "markdown",
   "metadata": {},
   "source": [
    "## matrix multiplication "
   ]
  },
  {
   "cell_type": "code",
   "execution_count": 17,
   "metadata": {},
   "outputs": [
    {
     "name": "stdout",
     "output_type": "stream",
     "text": [
      "[[ 1.8987967   2.60096962  3.98076498]\n",
      " [ 5.17710258  7.45068264  9.08286363]\n",
      " [ 8.45540847 12.30039566 14.18496229]]\n"
     ]
    }
   ],
   "source": [
    "# dot(mat1,mat2 ) --> multiply two matrices mat1 and mat2\n",
    "print(np.dot(mat,rand_mat))"
   ]
  },
  {
   "cell_type": "code",
   "execution_count": 18,
   "metadata": {},
   "outputs": [
    {
     "name": "stdout",
     "output_type": "stream",
     "text": [
      "[[0.30726391 1.33694926 1.16685603]\n",
      " [3.05992552 4.55897067 2.06057792]\n",
      " [0.14366341 0.29041793 8.714861  ]]\n"
     ]
    }
   ],
   "source": [
    "# element wise multiplication\n",
    "print(mat*rand_mat)"
   ]
  },
  {
   "cell_type": "markdown",
   "metadata": {},
   "source": [
    "## broadcasting --> doing mathematical operations on arrays"
   ]
  },
  {
   "cell_type": "code",
   "execution_count": 19,
   "metadata": {},
   "outputs": [
    {
     "name": "stdout",
     "output_type": "stream",
     "text": [
      "[[ 1  4  9]\n",
      " [16 25 36]\n",
      " [49 64 81]]\n"
     ]
    }
   ],
   "source": [
    "print(mat**2)"
   ]
  },
  {
   "cell_type": "markdown",
   "metadata": {},
   "source": [
    "## norms of a vector --> (summation of all |x(i)|^p)^1/p"
   ]
  },
  {
   "cell_type": "code",
   "execution_count": 25,
   "metadata": {},
   "outputs": [],
   "source": [
    "x=np.array([-5,3,10])"
   ]
  },
  {
   "cell_type": "code",
   "execution_count": 27,
   "metadata": {},
   "outputs": [
    {
     "name": "stdout",
     "output_type": "stream",
     "text": [
      "11.575836902790225\n"
     ]
    }
   ],
   "source": [
    "lp2=np.linalg.norm(x)\n",
    "print(lp1)"
   ]
  },
  {
   "cell_type": "code",
   "execution_count": 28,
   "metadata": {},
   "outputs": [
    {
     "name": "stdout",
     "output_type": "stream",
     "text": [
      "18.0\n"
     ]
    }
   ],
   "source": [
    "lp1=np.linalg.norm(x,ord=1)\n",
    "print(lp1)"
   ]
  },
  {
   "cell_type": "code",
   "execution_count": 30,
   "metadata": {},
   "outputs": [
    {
     "name": "stdout",
     "output_type": "stream",
     "text": [
      "10.0\n"
     ]
    }
   ],
   "source": [
    "lpinf=np.linalg.norm(x,ord=np.inf)\n",
    "print(lpinf)"
   ]
  },
  {
   "cell_type": "code",
   "execution_count": 33,
   "metadata": {},
   "outputs": [
    {
     "name": "stdout",
     "output_type": "stream",
     "text": [
      "5.9287221489704836\n"
     ]
    }
   ],
   "source": [
    "matt=np.array([[2,-2,1],[-1,2,-1],[2,-4,1]])\n",
    "lp2=np.linalg.norm(matt,ord=2)\n",
    "print(lp2)"
   ]
  },
  {
   "cell_type": "code",
   "execution_count": 35,
   "metadata": {},
   "outputs": [
    {
     "name": "stdout",
     "output_type": "stream",
     "text": [
      "[[-19  87]\n",
      " [ -9  26]\n",
      " [ -2  11]\n",
      " [  0   0]]\n"
     ]
    }
   ],
   "source": [
    "mat1=np.array([[1,-3,10],[-2,10,-7],[0,1,0],[0,0,0]])\n",
    "mat2=np.array([[5,0],[-2,11],[-3,12]])\n",
    "print(np.dot(mat1,mat2))"
   ]
  },
  {
   "cell_type": "code",
   "execution_count": null,
   "metadata": {},
   "outputs": [],
   "source": []
  }
 ],
 "metadata": {
  "kernelspec": {
   "display_name": "Python 3",
   "language": "python",
   "name": "python3"
  },
  "language_info": {
   "codemirror_mode": {
    "name": "ipython",
    "version": 3
   },
   "file_extension": ".py",
   "mimetype": "text/x-python",
   "name": "python",
   "nbconvert_exporter": "python",
   "pygments_lexer": "ipython3",
   "version": "3.7.3"
  }
 },
 "nbformat": 4,
 "nbformat_minor": 2
}
