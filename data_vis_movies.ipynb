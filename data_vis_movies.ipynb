{
 "cells": [
  {
   "cell_type": "code",
   "execution_count": 1,
   "metadata": {},
   "outputs": [],
   "source": [
    "import pandas as pd\n",
    "import numpy as np\n",
    "import matplotlib.pyplot as plt"
   ]
  },
  {
   "cell_type": "code",
   "execution_count": 2,
   "metadata": {},
   "outputs": [],
   "source": [
    "df=pd.read_csv(\"movies.csv\")"
   ]
  },
  {
   "cell_type": "code",
   "execution_count": 3,
   "metadata": {},
   "outputs": [
    {
     "data": {
      "text/html": [
       "<div>\n",
       "<style scoped>\n",
       "    .dataframe tbody tr th:only-of-type {\n",
       "        vertical-align: middle;\n",
       "    }\n",
       "\n",
       "    .dataframe tbody tr th {\n",
       "        vertical-align: top;\n",
       "    }\n",
       "\n",
       "    .dataframe thead th {\n",
       "        text-align: right;\n",
       "    }\n",
       "</style>\n",
       "<table border=\"1\" class=\"dataframe\">\n",
       "  <thead>\n",
       "    <tr style=\"text-align: right;\">\n",
       "      <th></th>\n",
       "      <th>year</th>\n",
       "      <th>imdb</th>\n",
       "      <th>title</th>\n",
       "      <th>test</th>\n",
       "      <th>clean_test</th>\n",
       "      <th>binary</th>\n",
       "      <th>budget</th>\n",
       "      <th>domgross</th>\n",
       "      <th>intgross</th>\n",
       "      <th>code</th>\n",
       "      <th>budget_2013$</th>\n",
       "      <th>domgross_2013$</th>\n",
       "      <th>intgross_2013$</th>\n",
       "      <th>period code</th>\n",
       "      <th>decade code</th>\n",
       "    </tr>\n",
       "  </thead>\n",
       "  <tbody>\n",
       "    <tr>\n",
       "      <th>0</th>\n",
       "      <td>2013</td>\n",
       "      <td>tt1711425</td>\n",
       "      <td>21 &amp;amp; Over</td>\n",
       "      <td>notalk</td>\n",
       "      <td>notalk</td>\n",
       "      <td>FAIL</td>\n",
       "      <td>13000000</td>\n",
       "      <td>25682380.0</td>\n",
       "      <td>42195766.0</td>\n",
       "      <td>2013FAIL</td>\n",
       "      <td>13000000</td>\n",
       "      <td>25682380.0</td>\n",
       "      <td>42195766.0</td>\n",
       "      <td>1.0</td>\n",
       "      <td>1.0</td>\n",
       "    </tr>\n",
       "    <tr>\n",
       "      <th>1</th>\n",
       "      <td>2012</td>\n",
       "      <td>tt1343727</td>\n",
       "      <td>Dredd 3D</td>\n",
       "      <td>ok-disagree</td>\n",
       "      <td>ok</td>\n",
       "      <td>PASS</td>\n",
       "      <td>45000000</td>\n",
       "      <td>13414714.0</td>\n",
       "      <td>40868994.0</td>\n",
       "      <td>2012PASS</td>\n",
       "      <td>45658735</td>\n",
       "      <td>13611086.0</td>\n",
       "      <td>41467257.0</td>\n",
       "      <td>1.0</td>\n",
       "      <td>1.0</td>\n",
       "    </tr>\n",
       "    <tr>\n",
       "      <th>2</th>\n",
       "      <td>2013</td>\n",
       "      <td>tt2024544</td>\n",
       "      <td>12 Years a Slave</td>\n",
       "      <td>notalk-disagree</td>\n",
       "      <td>notalk</td>\n",
       "      <td>FAIL</td>\n",
       "      <td>20000000</td>\n",
       "      <td>53107035.0</td>\n",
       "      <td>158607035.0</td>\n",
       "      <td>2013FAIL</td>\n",
       "      <td>20000000</td>\n",
       "      <td>53107035.0</td>\n",
       "      <td>158607035.0</td>\n",
       "      <td>1.0</td>\n",
       "      <td>1.0</td>\n",
       "    </tr>\n",
       "    <tr>\n",
       "      <th>3</th>\n",
       "      <td>2013</td>\n",
       "      <td>tt1272878</td>\n",
       "      <td>2 Guns</td>\n",
       "      <td>notalk</td>\n",
       "      <td>notalk</td>\n",
       "      <td>FAIL</td>\n",
       "      <td>61000000</td>\n",
       "      <td>75612460.0</td>\n",
       "      <td>132493015.0</td>\n",
       "      <td>2013FAIL</td>\n",
       "      <td>61000000</td>\n",
       "      <td>75612460.0</td>\n",
       "      <td>132493015.0</td>\n",
       "      <td>1.0</td>\n",
       "      <td>1.0</td>\n",
       "    </tr>\n",
       "    <tr>\n",
       "      <th>4</th>\n",
       "      <td>2013</td>\n",
       "      <td>tt0453562</td>\n",
       "      <td>42</td>\n",
       "      <td>men</td>\n",
       "      <td>men</td>\n",
       "      <td>FAIL</td>\n",
       "      <td>40000000</td>\n",
       "      <td>95020213.0</td>\n",
       "      <td>95020213.0</td>\n",
       "      <td>2013FAIL</td>\n",
       "      <td>40000000</td>\n",
       "      <td>95020213.0</td>\n",
       "      <td>95020213.0</td>\n",
       "      <td>1.0</td>\n",
       "      <td>1.0</td>\n",
       "    </tr>\n",
       "    <tr>\n",
       "      <th>5</th>\n",
       "      <td>2013</td>\n",
       "      <td>tt1335975</td>\n",
       "      <td>47 Ronin</td>\n",
       "      <td>men</td>\n",
       "      <td>men</td>\n",
       "      <td>FAIL</td>\n",
       "      <td>225000000</td>\n",
       "      <td>38362475.0</td>\n",
       "      <td>145803842.0</td>\n",
       "      <td>2013FAIL</td>\n",
       "      <td>225000000</td>\n",
       "      <td>38362475.0</td>\n",
       "      <td>145803842.0</td>\n",
       "      <td>1.0</td>\n",
       "      <td>1.0</td>\n",
       "    </tr>\n",
       "    <tr>\n",
       "      <th>6</th>\n",
       "      <td>2013</td>\n",
       "      <td>tt1606378</td>\n",
       "      <td>A Good Day to Die Hard</td>\n",
       "      <td>notalk</td>\n",
       "      <td>notalk</td>\n",
       "      <td>FAIL</td>\n",
       "      <td>92000000</td>\n",
       "      <td>67349198.0</td>\n",
       "      <td>304249198.0</td>\n",
       "      <td>2013FAIL</td>\n",
       "      <td>92000000</td>\n",
       "      <td>67349198.0</td>\n",
       "      <td>304249198.0</td>\n",
       "      <td>1.0</td>\n",
       "      <td>1.0</td>\n",
       "    </tr>\n",
       "    <tr>\n",
       "      <th>7</th>\n",
       "      <td>2013</td>\n",
       "      <td>tt2194499</td>\n",
       "      <td>About Time</td>\n",
       "      <td>ok-disagree</td>\n",
       "      <td>ok</td>\n",
       "      <td>PASS</td>\n",
       "      <td>12000000</td>\n",
       "      <td>15323921.0</td>\n",
       "      <td>87324746.0</td>\n",
       "      <td>2013PASS</td>\n",
       "      <td>12000000</td>\n",
       "      <td>15323921.0</td>\n",
       "      <td>87324746.0</td>\n",
       "      <td>1.0</td>\n",
       "      <td>1.0</td>\n",
       "    </tr>\n",
       "    <tr>\n",
       "      <th>8</th>\n",
       "      <td>2013</td>\n",
       "      <td>tt1814621</td>\n",
       "      <td>Admission</td>\n",
       "      <td>ok</td>\n",
       "      <td>ok</td>\n",
       "      <td>PASS</td>\n",
       "      <td>13000000</td>\n",
       "      <td>18007317.0</td>\n",
       "      <td>18007317.0</td>\n",
       "      <td>2013PASS</td>\n",
       "      <td>13000000</td>\n",
       "      <td>18007317.0</td>\n",
       "      <td>18007317.0</td>\n",
       "      <td>1.0</td>\n",
       "      <td>1.0</td>\n",
       "    </tr>\n",
       "    <tr>\n",
       "      <th>9</th>\n",
       "      <td>2013</td>\n",
       "      <td>tt1815862</td>\n",
       "      <td>After Earth</td>\n",
       "      <td>notalk</td>\n",
       "      <td>notalk</td>\n",
       "      <td>FAIL</td>\n",
       "      <td>130000000</td>\n",
       "      <td>60522097.0</td>\n",
       "      <td>244373198.0</td>\n",
       "      <td>2013FAIL</td>\n",
       "      <td>130000000</td>\n",
       "      <td>60522097.0</td>\n",
       "      <td>244373198.0</td>\n",
       "      <td>1.0</td>\n",
       "      <td>1.0</td>\n",
       "    </tr>\n",
       "  </tbody>\n",
       "</table>\n",
       "</div>"
      ],
      "text/plain": [
       "   year       imdb                   title             test clean_test binary  \\\n",
       "0  2013  tt1711425           21 &amp; Over           notalk     notalk   FAIL   \n",
       "1  2012  tt1343727                Dredd 3D      ok-disagree         ok   PASS   \n",
       "2  2013  tt2024544        12 Years a Slave  notalk-disagree     notalk   FAIL   \n",
       "3  2013  tt1272878                  2 Guns           notalk     notalk   FAIL   \n",
       "4  2013  tt0453562                      42              men        men   FAIL   \n",
       "5  2013  tt1335975                47 Ronin              men        men   FAIL   \n",
       "6  2013  tt1606378  A Good Day to Die Hard           notalk     notalk   FAIL   \n",
       "7  2013  tt2194499              About Time      ok-disagree         ok   PASS   \n",
       "8  2013  tt1814621               Admission               ok         ok   PASS   \n",
       "9  2013  tt1815862             After Earth           notalk     notalk   FAIL   \n",
       "\n",
       "      budget    domgross     intgross      code  budget_2013$  domgross_2013$  \\\n",
       "0   13000000  25682380.0   42195766.0  2013FAIL      13000000      25682380.0   \n",
       "1   45000000  13414714.0   40868994.0  2012PASS      45658735      13611086.0   \n",
       "2   20000000  53107035.0  158607035.0  2013FAIL      20000000      53107035.0   \n",
       "3   61000000  75612460.0  132493015.0  2013FAIL      61000000      75612460.0   \n",
       "4   40000000  95020213.0   95020213.0  2013FAIL      40000000      95020213.0   \n",
       "5  225000000  38362475.0  145803842.0  2013FAIL     225000000      38362475.0   \n",
       "6   92000000  67349198.0  304249198.0  2013FAIL      92000000      67349198.0   \n",
       "7   12000000  15323921.0   87324746.0  2013PASS      12000000      15323921.0   \n",
       "8   13000000  18007317.0   18007317.0  2013PASS      13000000      18007317.0   \n",
       "9  130000000  60522097.0  244373198.0  2013FAIL     130000000      60522097.0   \n",
       "\n",
       "   intgross_2013$  period code  decade code  \n",
       "0      42195766.0          1.0          1.0  \n",
       "1      41467257.0          1.0          1.0  \n",
       "2     158607035.0          1.0          1.0  \n",
       "3     132493015.0          1.0          1.0  \n",
       "4      95020213.0          1.0          1.0  \n",
       "5     145803842.0          1.0          1.0  \n",
       "6     304249198.0          1.0          1.0  \n",
       "7      87324746.0          1.0          1.0  \n",
       "8      18007317.0          1.0          1.0  \n",
       "9     244373198.0          1.0          1.0  "
      ]
     },
     "execution_count": 3,
     "metadata": {},
     "output_type": "execute_result"
    }
   ],
   "source": [
    "df.head(n=10)"
   ]
  },
  {
   "cell_type": "code",
   "execution_count": 5,
   "metadata": {},
   "outputs": [
    {
     "data": {
      "text/plain": [
       "Index(['year', 'imdb', 'title', 'test', 'clean_test', 'binary', 'budget',\n",
       "       'domgross', 'intgross', 'code', 'budget_2013$', 'domgross_2013$',\n",
       "       'intgross_2013$', 'period code', 'decade code'],\n",
       "      dtype='object')"
      ]
     },
     "execution_count": 5,
     "metadata": {},
     "output_type": "execute_result"
    }
   ],
   "source": [
    "df.columns"
   ]
  },
  {
   "cell_type": "code",
   "execution_count": 8,
   "metadata": {},
   "outputs": [
    {
     "name": "stdout",
     "output_type": "stream",
     "text": [
      "1            Dredd 3D\n",
      "2    12 Years a Slave\n",
      "3              2 Guns\n",
      "4                  42\n",
      "Name: title, dtype: object\n"
     ]
    }
   ],
   "source": [
    " movie_titles=df.get('title')\n",
    "print(movie_titles[1:5])"
   ]
  },
  {
   "cell_type": "code",
   "execution_count": 9,
   "metadata": {},
   "outputs": [],
   "source": [
    "freq={}\n",
    "\n",
    "for t in movie_titles:\n",
    "    length=len(t)\n",
    "    if freq.get(length) is None:\n",
    "        freq[length]=1\n",
    "    else:\n",
    "        freq[length]+=1"
   ]
  },
  {
   "cell_type": "code",
   "execution_count": 12,
   "metadata": {},
   "outputs": [
    {
     "name": "stdout",
     "output_type": "stream",
     "text": [
      "{13: 85, 8: 111, 16: 80, 6: 57, 2: 5, 22: 29, 10: 123, 9: 109, 11: 111, 15: 93, 20: 46, 19: 81, 12: 105, 35: 14, 7: 89, 4: 44, 24: 32, 18: 74, 21: 51, 14: 92, 34: 13, 3: 15, 27: 16, 25: 20, 30: 13, 5: 51, 23: 22, 17: 75, 31: 15, 37: 9, 38: 8, 26: 18, 33: 7, 28: 14, 41: 9, 40: 6, 44: 5, 36: 2, 43: 3, 29: 10, 54: 2, 56: 2, 1: 1, 39: 4, 45: 2, 50: 1, 42: 4, 83: 1, 32: 6, 46: 2, 62: 1, 51: 2, 47: 1, 49: 1, 48: 1, 55: 1}\n"
     ]
    }
   ],
   "source": [
    "print(freq)"
   ]
  },
  {
   "cell_type": "code",
   "execution_count": 18,
   "metadata": {},
   "outputs": [
    {
     "data": {
      "image/png": "[encoded data removed]",
      "text/plain": [
       "<Figure size 576x396 with 1 Axes>"
      ]
     },
     "metadata": {},
     "output_type": "display_data"
    }
   ],
   "source": [
    "plt.style.use(\"seaborn\")\n",
    "x=np.array(list(freq.keys()))\n",
    "y=np.array(list(freq.values()))\n",
    "plt.scatter(x,y)\n",
    "plt.xlabel(\"lenght of movie titles\")\n",
    "plt.ylabel(\"numebr of movies\")\n",
    "plt.title(\"len vs movies\")\n",
    "plt.show()"
   ]
  },
  {
   "cell_type": "code",
   "execution_count": 16,
   "metadata": {},
   "outputs": [
    {
     "name": "stdout",
     "output_type": "stream",
     "text": [
      "Object `plt.theme` not found.\n"
     ]
    }
   ],
   "source": [
    "plt.theme?"
   ]
  },
  {
   "cell_type": "code",
   "execution_count": null,
   "metadata": {},
   "outputs": [],
   "source": []
  }
 ],
 "metadata": {
  "kernelspec": {
   "display_name": "Python 3",
   "language": "python",
   "name": "python3"
  },
  "language_info": {
   "codemirror_mode": {
    "name": "ipython",
    "version": 3
   },
   "file_extension": ".py",
   "mimetype": "text/x-python",
   "name": "python",
   "nbconvert_exporter": "python",
   "pygments_lexer": "ipython3",
   "version": "3.7.3"
  }
 },
 "nbformat": 4,
 "nbformat_minor": 2
}
