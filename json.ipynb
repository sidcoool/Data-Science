{
 "cells": [
  {
   "cell_type": "markdown",
   "metadata": {},
   "source": [
    "## json file"
   ]
  },
  {
   "cell_type": "code",
   "execution_count": 3,
   "metadata": {},
   "outputs": [
    {
     "name": "stdout",
     "output_type": "stream",
     "text": [
      "{'name': 'A2', 'age': 40}\n"
     ]
    }
   ],
   "source": [
    "import json\n",
    "\n",
    "dict={\n",
    "    \"name\":\"python\",\n",
    "    \"page\":320,\n",
    "    \"author\":[\n",
    "        {\n",
    "            \"name\":\"a1\",\n",
    "            \"age\":30\n",
    "        },\n",
    "        {\n",
    "            \"name\":\"A2\",\n",
    "            \"age\":40\n",
    "        }\n",
    "    ]\n",
    "}\n",
    "\n",
    "print(dict[\"author\"][1])\n"
   ]
  },
  {
   "cell_type": "code",
   "execution_count": 4,
   "metadata": {},
   "outputs": [],
   "source": [
    "with open(\"my_json_file.txt\",\"w\") as f:\n",
    "    json.dump(dict,f)"
   ]
  },
  {
   "cell_type": "code",
   "execution_count": 9,
   "metadata": {},
   "outputs": [
    {
     "name": "stdout",
     "output_type": "stream",
     "text": [
      "<class 'str'>\n",
      "{\"name\": \"python\", \"page\": 320, \"author\": [{\"name\": \"a1\", \"age\": 30}, {\"name\": \"A2\", \"age\": 40}]}\n"
     ]
    }
   ],
   "source": [
    "s=json.dumps(dict)\n",
    "print(type(s))\n",
    "print(s)"
   ]
  },
  {
   "cell_type": "code",
   "execution_count": 17,
   "metadata": {},
   "outputs": [
    {
     "name": "stdout",
     "output_type": "stream",
     "text": [
      "<class 'dict'>\n",
      "{'author': [{'age': 30, 'name': 'a1'}, {'age': 40, 'name': 'A2'}],\n",
      " 'name': 'python',\n",
      " 'page': 320}\n"
     ]
    }
   ],
   "source": [
    "import pprint\n",
    "\n",
    "obj=json.loads(s)\n",
    "print(type(obj))\n",
    "pprint.pprint(obj)"
   ]
  },
  {
   "cell_type": "code",
   "execution_count": 18,
   "metadata": {},
   "outputs": [
    {
     "name": "stdout",
     "output_type": "stream",
     "text": [
      "<class 'dict'>\n",
      "{'author': [{'age': 30, 'name': 'a1'}, {'age': 40, 'name': 'A2'}],\n",
      " 'name': 'python',\n",
      " 'page': 320}\n"
     ]
    }
   ],
   "source": [
    "with open(\"my_json_file.txt\") as f:\n",
    "    data=json.load(f)\n",
    "    print(type(data))\n",
    "    pprint.pprint(data)"
   ]
  },
  {
   "cell_type": "code",
   "execution_count": null,
   "metadata": {},
   "outputs": [],
   "source": []
  }
 ],
 "metadata": {
  "kernelspec": {
   "display_name": "Python 3",
   "language": "python",
   "name": "python3"
  },
  "language_info": {
   "codemirror_mode": {
    "name": "ipython",
    "version": 3
   },
   "file_extension": ".py",
   "mimetype": "text/x-python",
   "name": "python",
   "nbconvert_exporter": "python",
   "pygments_lexer": "ipython3",
   "version": "3.7.3"
  }
 },
 "nbformat": 4,
 "nbformat_minor": 2
}
